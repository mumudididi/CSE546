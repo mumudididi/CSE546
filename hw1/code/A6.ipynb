{
 "cells": [
  {
   "cell_type": "code",
   "execution_count": 70,
   "metadata": {},
   "outputs": [],
   "source": [
    "from mnist import MNIST\n",
    "import numpy as np\n",
    "import matplotlib.pyplot as plt\n",
    "from scipy import linalg\n",
    "from tqdm import tqdm"
   ]
  },
  {
   "cell_type": "code",
   "execution_count": 71,
   "metadata": {},
   "outputs": [],
   "source": [
    "#################### Chuanmudi Qin######################\n",
    "##################### CSE 546 ##########################\n",
    "####################### HW 1 ###########################\n",
    "######################## A6 ############################"
   ]
  },
  {
   "cell_type": "code",
   "execution_count": 72,
   "metadata": {},
   "outputs": [],
   "source": [
    "class RidgeReg:\n",
    "    def __init__(self, Lambda=0.1,theta = None,Xmean=None,Ymean=None,std =None):\n",
    "        self.regLambda= Lambda\n",
    "        self.mean=Xmean\n",
    "        self.Ymean=Ymean\n",
    "        self.std = std\n",
    "        self.theta = theta\n",
    "        self.predictedY = None\n",
    "           \n",
    "    def __prep(self,Xtrain, Ytrain,k): \n",
    "        n = len(Ytrain)\n",
    "        Ytrain_one_hot = np.zeros((n,k))\n",
    "        # creating hot_one Y\n",
    "        for i in range(0,n):\n",
    "            Ytrain_one_hot[i,Ytrain[i]] = 1\n",
    "            \n",
    "        #zero mean std X and Y\n",
    "        self.mean=np.mean(Xtrain,axis=0)\n",
    "        self.Ymean=np.mean(Ytrain,axis=0)\n",
    "        \n",
    "        self.std=np.std(Xtrain,axis=0)\n",
    "        self.std[self.std==0]=1\n",
    "        \n",
    "        #normalization\n",
    "        Xtrain_tilda = (Xtrain- self.mean) /self.std\n",
    "        Ytrain_tilda = Ytrain - self.Ymean\n",
    "        \n",
    "        return Xtrain_tilda, Ytrain_one_hot\n",
    "        \n",
    "    \n",
    "    \n",
    "    def train(self,Xtrain,Ytrain,k): \n",
    "        n = len(Ytrain)\n",
    "        d=np.array(Xtrain).shape[1]\n",
    "        # normalize \n",
    "        Xtrain_tilda, Ytrain_one_hot = self.__prep(Xtrain,Ytrain,k)\n",
    "        # RHS (X'*X + \\lambda*I)\n",
    "        a= (np.dot(Xtrain_tilda.T,Xtrain_tilda))+self.regLambda * np.eye(d,d)\n",
    "        \n",
    "        # LHS X'*Y\n",
    "        b=np.dot(Xtrain_tilda.T,Ytrain_one_hot)\n",
    "        \n",
    "        #solve the linear eq\n",
    "        self.theta = linalg.solve(a, b)\n",
    "\n",
    "\n",
    "    def predict(self,Xtest):\n",
    "        #normalize input data with mean and std already calculated \n",
    "        X_tilta = (Xtest - self.mean) /self.std\n",
    "        #(X-\\mu)*w\n",
    "        XW= np.dot(X_tilta, self.theta)+self.Ymean\n",
    "        \n",
    "        #(x-\\mu)*w +y\n",
    "        self.predictedY= np.argmax(XW, axis = 1)\n",
    "        \n",
    "    ###############################################################################################################\n",
    "    ################### below are two revised version that takes X and Y but need preprocessing beforehand##########\n",
    "    #################################################################################################################\n",
    "    def train2(self, X, Y):\n",
    "      d = X.shape[1]\n",
    "      #zero mean std X and Y\n",
    "      self.mean=np.mean(X,axis=0)\n",
    "      self.Ymean=np.mean(Y,axis=0)\n",
    "        \n",
    "      self.std=np.std(X,axis=0)\n",
    "      self.std[self.std==0]=1\n",
    "        \n",
    "      #normalization\n",
    "      X = (X - self.mean) /self.std\n",
    "      Y= Y - self.Ymean\n",
    "      Xt_X_plus_lambda = np.dot(X.T, X) + self.regLambda * np.eye(d,d)\n",
    "      Xt_Y = np.dot(X.T, Y)\n",
    "      self.theta = np.linalg.solve(Xt_X_plus_lambda, Xt_Y)\n",
    "\n",
    "    def predict2(self, X_prime):\n",
    "      X_prime = (X_prime - self.mean) /self.std\n",
    "      self.predictedY= np.argmax(np.dot(X_prime, self.theta)+self.Ymean, axis = 1)\n",
    "\n",
    "##############################just one method###############################    \n",
    "def error(sampleSize, predictedLabel, trueLabel): \n",
    "        wrongPrediction = 0\n",
    "        for k,d in zip(predictedLabel,trueLabel): \n",
    "            if  (k-d).sum()!=0:\n",
    "                wrongPrediction +=1\n",
    "        res = 1/sampleSize * wrongPrediction\n",
    "        print(\"the training/testing error is : {}\".format(res) )\n",
    "        return res\n",
    "    \n",
    "            \n",
    "        "
   ]
  },
  {
   "cell_type": "code",
   "execution_count": 73,
   "metadata": {},
   "outputs": [],
   "source": [
    "####################### LOAD MNIST DATA ###########################\n",
    "mndata = MNIST('./data/')\n",
    "X_train, labels_train = map(np.array, mndata.load_training())\n",
    "X_test, labels_test = map(np.array, mndata.load_testing())\n",
    "X_train = X_train/255.0\n",
    "X_test = X_test/255.0"
   ]
  },
  {
   "cell_type": "code",
   "execution_count": 74,
   "metadata": {},
   "outputs": [],
   "source": [
    "#################### Y one-hot representation #####################\n",
    "Y_train = np.zeros((X_train.shape[0], 10))\n",
    "for i,digit in enumerate(labels_train):\n",
    "    Y_train[i, digit] = 1\n"
   ]
  },
  {
   "cell_type": "code",
   "execution_count": 75,
   "metadata": {},
   "outputs": [
    {
     "name": "stdout",
     "output_type": "stream",
     "text": [
      "the training/testing error is : 0.14226666666666668\n",
      "the training/testing error is : 0.13970000000000002\n"
     ]
    }
   ],
   "source": [
    "################################ A6 (b) #####################################\n",
    "#############################################################################\n",
    "########################### Instantiate and train ###########################\n",
    "rreg = RidgeReg(Lambda = 1E-4);\n",
    "rreg.train2(X_train, Y_train)\n",
    "rreg.predict2(X_train)\n",
    "train_error = error(len(labels_train),rreg.predictedY, labels_train)\n",
    "rreg.predict2(X_test)\n",
    "train_error = error(len(labels_test),rreg.predictedY, labels_test)"
   ]
  },
  {
   "cell_type": "code",
   "execution_count": 76,
   "metadata": {},
   "outputs": [],
   "source": [
    "################################################\n",
    "#################### B1 ########################\n",
    "#################### cross validation ##########\n",
    "################################################"
   ]
  },
  {
   "cell_type": "code",
   "execution_count": 84,
   "metadata": {},
   "outputs": [
    {
     "name": "stderr",
     "output_type": "stream",
     "text": [
      "  0%|          | 0/30 [00:00<?, ?it/s]"
     ]
    },
    {
     "name": "stdout",
     "output_type": "stream",
     "text": [
      "==================================================================\n",
      "p = 200 \n",
      "......................Training.............\n"
     ]
    },
    {
     "name": "stderr",
     "output_type": "stream",
     "text": [
      "  3%|▎         | 1/30 [00:01<00:34,  1.18s/it]"
     ]
    },
    {
     "name": "stdout",
     "output_type": "stream",
     "text": [
      "the training/testing error is : 0.38029166666666664\n",
      "..........................validation ing...............\n",
      "the training/testing error is : 0.38525\n",
      "\n",
      "\n",
      "==================================================================\n",
      "p = 400 \n",
      "......................Training.............\n"
     ]
    },
    {
     "name": "stderr",
     "output_type": "stream",
     "text": [
      "  7%|▋         | 2/30 [00:03<00:39,  1.40s/it]"
     ]
    },
    {
     "name": "stdout",
     "output_type": "stream",
     "text": [
      "the training/testing error is : 0.2521041666666667\n",
      "..........................validation ing...............\n",
      "the training/testing error is : 0.2643333333333333\n",
      "\n",
      "\n",
      "==================================================================\n",
      "p = 600 \n",
      "......................Training.............\n"
     ]
    },
    {
     "name": "stderr",
     "output_type": "stream",
     "text": [
      " 10%|█         | 3/30 [00:05<00:49,  1.84s/it]"
     ]
    },
    {
     "name": "stdout",
     "output_type": "stream",
     "text": [
      "the training/testing error is : 0.19535416666666666\n",
      "..........................validation ing...............\n",
      "the training/testing error is : 0.2115\n",
      "\n",
      "\n",
      "==================================================================\n",
      "p = 800 \n",
      "......................Training.............\n"
     ]
    },
    {
     "name": "stderr",
     "output_type": "stream",
     "text": [
      " 13%|█▎        | 4/30 [00:10<01:06,  2.56s/it]"
     ]
    },
    {
     "name": "stdout",
     "output_type": "stream",
     "text": [
      "the training/testing error is : 0.15589583333333332\n",
      "..........................validation ing...............\n",
      "the training/testing error is : 0.17341666666666666\n",
      "\n",
      "\n",
      "==================================================================\n",
      "p = 1000 \n",
      "......................Training.............\n"
     ]
    },
    {
     "name": "stderr",
     "output_type": "stream",
     "text": [
      " 17%|█▋        | 5/30 [00:15<01:21,  3.25s/it]"
     ]
    },
    {
     "name": "stdout",
     "output_type": "stream",
     "text": [
      "the training/testing error is : 0.13193749999999999\n",
      "..........................validation ing...............\n",
      "the training/testing error is : 0.15291666666666667\n",
      "\n",
      "\n",
      "==================================================================\n",
      "p = 1200 \n",
      "......................Training.............\n"
     ]
    },
    {
     "name": "stderr",
     "output_type": "stream",
     "text": [
      " 20%|██        | 6/30 [00:21<01:40,  4.20s/it]"
     ]
    },
    {
     "name": "stdout",
     "output_type": "stream",
     "text": [
      "the training/testing error is : 0.11947916666666666\n",
      "..........................validation ing...............\n",
      "the training/testing error is : 0.13716666666666666\n",
      "\n",
      "\n",
      "==================================================================\n",
      "p = 1400 \n",
      "......................Training.............\n"
     ]
    },
    {
     "name": "stderr",
     "output_type": "stream",
     "text": [
      " 23%|██▎       | 7/30 [00:28<01:55,  5.03s/it]"
     ]
    },
    {
     "name": "stdout",
     "output_type": "stream",
     "text": [
      "the training/testing error is : 0.104875\n",
      "..........................validation ing...............\n",
      "the training/testing error is : 0.12425\n",
      "\n",
      "\n",
      "==================================================================\n",
      "p = 1600 \n",
      "......................Training.............\n"
     ]
    },
    {
     "name": "stderr",
     "output_type": "stream",
     "text": [
      " 27%|██▋       | 8/30 [00:36<02:11,  5.97s/it]"
     ]
    },
    {
     "name": "stdout",
     "output_type": "stream",
     "text": [
      "the training/testing error is : 0.09029166666666666\n",
      "..........................validation ing...............\n",
      "the training/testing error is : 0.11233333333333333\n",
      "\n",
      "\n",
      "==================================================================\n",
      "p = 1800 \n",
      "......................Training.............\n"
     ]
    },
    {
     "name": "stderr",
     "output_type": "stream",
     "text": [
      " 30%|███       | 9/30 [00:46<02:27,  7.04s/it]"
     ]
    },
    {
     "name": "stdout",
     "output_type": "stream",
     "text": [
      "the training/testing error is : 0.0836875\n",
      "..........................validation ing...............\n",
      "the training/testing error is : 0.10825\n",
      "\n",
      "\n",
      "==================================================================\n",
      "p = 2000 \n",
      "......................Training.............\n"
     ]
    },
    {
     "name": "stderr",
     "output_type": "stream",
     "text": [
      " 33%|███▎      | 10/30 [00:57<02:44,  8.24s/it]"
     ]
    },
    {
     "name": "stdout",
     "output_type": "stream",
     "text": [
      "the training/testing error is : 0.07564583333333333\n",
      "..........................validation ing...............\n",
      "the training/testing error is : 0.09725\n",
      "\n",
      "\n",
      "==================================================================\n",
      "p = 2200 \n",
      "......................Training.............\n"
     ]
    },
    {
     "name": "stderr",
     "output_type": "stream",
     "text": [
      " 37%|███▋      | 11/30 [01:09<03:01,  9.57s/it]"
     ]
    },
    {
     "name": "stdout",
     "output_type": "stream",
     "text": [
      "the training/testing error is : 0.06802083333333334\n",
      "..........................validation ing...............\n",
      "the training/testing error is : 0.09183333333333334\n",
      "\n",
      "\n",
      "==================================================================\n",
      "p = 2400 \n",
      "......................Training.............\n"
     ]
    },
    {
     "name": "stderr",
     "output_type": "stream",
     "text": [
      " 40%|████      | 12/30 [01:24<03:21, 11.19s/it]"
     ]
    },
    {
     "name": "stdout",
     "output_type": "stream",
     "text": [
      "the training/testing error is : 0.06283333333333332\n",
      "..........................validation ing...............\n",
      "the training/testing error is : 0.08616666666666667\n",
      "\n",
      "\n",
      "==================================================================\n",
      "p = 2600 \n",
      "......................Training.............\n",
      "the training/testing error is : 0.057916666666666665\n",
      "..........................validation ing...............\n"
     ]
    },
    {
     "name": "stderr",
     "output_type": "stream",
     "text": [
      " 43%|████▎     | 13/30 [01:42<03:41, 13.04s/it]"
     ]
    },
    {
     "name": "stdout",
     "output_type": "stream",
     "text": [
      "the training/testing error is : 0.08533333333333333\n",
      "\n",
      "\n",
      "==================================================================\n",
      "p = 2800 \n",
      "......................Training.............\n",
      "the training/testing error is : 0.05514583333333333\n",
      "..........................validation ing...............\n",
      "the training/testing error is : 0.08283333333333333\n",
      "\n",
      "\n"
     ]
    },
    {
     "name": "stderr",
     "output_type": "stream",
     "text": [
      " 47%|████▋     | 14/30 [02:03<04:05, 15.37s/it]"
     ]
    },
    {
     "name": "stdout",
     "output_type": "stream",
     "text": [
      "==================================================================\n",
      "p = 3000 \n",
      "......................Training.............\n",
      "the training/testing error is : 0.050708333333333334\n",
      "..........................validation ing...............\n"
     ]
    },
    {
     "name": "stderr",
     "output_type": "stream",
     "text": [
      " 50%|█████     | 15/30 [02:25<04:23, 17.59s/it]"
     ]
    },
    {
     "name": "stdout",
     "output_type": "stream",
     "text": [
      "the training/testing error is : 0.07816666666666666\n",
      "\n",
      "\n",
      "==================================================================\n",
      "p = 3200 \n",
      "......................Training.............\n",
      "the training/testing error is : 0.048\n",
      "..........................validation ing...............\n"
     ]
    },
    {
     "name": "stderr",
     "output_type": "stream",
     "text": [
      " 53%|█████▎    | 16/30 [02:51<04:39, 19.93s/it]"
     ]
    },
    {
     "name": "stdout",
     "output_type": "stream",
     "text": [
      "the training/testing error is : 0.07133333333333333\n",
      "\n",
      "\n",
      "==================================================================\n",
      "p = 3400 \n",
      "......................Training.............\n",
      "the training/testing error is : 0.043854166666666666\n",
      "..........................validation ing...............\n"
     ]
    },
    {
     "name": "stderr",
     "output_type": "stream",
     "text": [
      " 57%|█████▋    | 17/30 [03:18<04:49, 22.29s/it]"
     ]
    },
    {
     "name": "stdout",
     "output_type": "stream",
     "text": [
      "the training/testing error is : 0.07041666666666667\n",
      "\n",
      "\n",
      "==================================================================\n",
      "p = 3600 \n",
      "......................Training.............\n",
      "the training/testing error is : 0.041041666666666664\n",
      "..........................validation ing...............\n"
     ]
    },
    {
     "name": "stderr",
     "output_type": "stream",
     "text": [
      " 60%|██████    | 18/30 [03:54<05:14, 26.21s/it]"
     ]
    },
    {
     "name": "stdout",
     "output_type": "stream",
     "text": [
      "the training/testing error is : 0.06683333333333333\n",
      "\n",
      "\n",
      "==================================================================\n",
      "p = 3800 \n",
      "......................Training.............\n",
      "the training/testing error is : 0.03720833333333333\n",
      "..........................validation ing...............\n"
     ]
    },
    {
     "name": "stderr",
     "output_type": "stream",
     "text": [
      " 63%|██████▎   | 19/30 [04:28<05:13, 28.46s/it]"
     ]
    },
    {
     "name": "stdout",
     "output_type": "stream",
     "text": [
      "the training/testing error is : 0.066\n",
      "\n",
      "\n",
      "==================================================================\n",
      "p = 4000 \n",
      "......................Training.............\n",
      "the training/testing error is : 0.03639583333333333\n",
      "..........................validation ing...............\n"
     ]
    },
    {
     "name": "stderr",
     "output_type": "stream",
     "text": [
      " 67%|██████▋   | 20/30 [05:09<05:24, 32.46s/it]"
     ]
    },
    {
     "name": "stdout",
     "output_type": "stream",
     "text": [
      "the training/testing error is : 0.06275\n",
      "\n",
      "\n",
      "==================================================================\n",
      "p = 4200 \n",
      "......................Training.............\n",
      "the training/testing error is : 0.03285416666666666\n",
      "..........................validation ing...............\n"
     ]
    },
    {
     "name": "stderr",
     "output_type": "stream",
     "text": [
      " 70%|███████   | 21/30 [06:01<05:45, 38.34s/it]"
     ]
    },
    {
     "name": "stdout",
     "output_type": "stream",
     "text": [
      "the training/testing error is : 0.06366666666666666\n",
      "\n",
      "\n",
      "==================================================================\n",
      "p = 4400 \n",
      "......................Training.............\n",
      "the training/testing error is : 0.031625\n",
      "..........................validation ing...............\n"
     ]
    },
    {
     "name": "stderr",
     "output_type": "stream",
     "text": [
      " 73%|███████▎  | 22/30 [06:53<05:38, 42.35s/it]"
     ]
    },
    {
     "name": "stdout",
     "output_type": "stream",
     "text": [
      "the training/testing error is : 0.06041666666666667\n",
      "\n",
      "\n",
      "==================================================================\n",
      "p = 4600 \n",
      "......................Training.............\n",
      "the training/testing error is : 0.029395833333333333\n",
      "..........................validation ing...............\n"
     ]
    },
    {
     "name": "stderr",
     "output_type": "stream",
     "text": [
      " 77%|███████▋  | 23/30 [07:48<05:22, 46.14s/it]"
     ]
    },
    {
     "name": "stdout",
     "output_type": "stream",
     "text": [
      "the training/testing error is : 0.05983333333333333\n",
      "\n",
      "\n",
      "==================================================================\n",
      "p = 4800 \n",
      "......................Training.............\n",
      "the training/testing error is : 0.029145833333333333\n",
      "..........................validation ing...............\n"
     ]
    },
    {
     "name": "stderr",
     "output_type": "stream",
     "text": [
      " 80%|████████  | 24/30 [08:48<05:02, 50.35s/it]"
     ]
    },
    {
     "name": "stdout",
     "output_type": "stream",
     "text": [
      "the training/testing error is : 0.05633333333333333\n",
      "\n",
      "\n",
      "==================================================================\n",
      "p = 5000 \n",
      "......................Training.............\n",
      "the training/testing error is : 0.0266875\n",
      "..........................validation ing...............\n"
     ]
    },
    {
     "name": "stderr",
     "output_type": "stream",
     "text": [
      " 83%|████████▎ | 25/30 [09:52<04:31, 54.32s/it]"
     ]
    },
    {
     "name": "stdout",
     "output_type": "stream",
     "text": [
      "the training/testing error is : 0.057166666666666664\n",
      "\n",
      "\n",
      "==================================================================\n",
      "p = 5200 \n",
      "......................Training.............\n",
      "the training/testing error is : 0.025729166666666664\n",
      "..........................validation ing...............\n"
     ]
    },
    {
     "name": "stderr",
     "output_type": "stream",
     "text": [
      " 87%|████████▋ | 26/30 [11:01<03:55, 58.83s/it]"
     ]
    },
    {
     "name": "stdout",
     "output_type": "stream",
     "text": [
      "the training/testing error is : 0.05558333333333333\n",
      "\n",
      "\n",
      "==================================================================\n",
      "p = 5400 \n",
      "......................Training.............\n",
      "the training/testing error is : 0.02402083333333333\n",
      "..........................validation ing...............\n"
     ]
    },
    {
     "name": "stderr",
     "output_type": "stream",
     "text": [
      " 90%|█████████ | 27/30 [12:15<03:10, 63.34s/it]"
     ]
    },
    {
     "name": "stdout",
     "output_type": "stream",
     "text": [
      "the training/testing error is : 0.0535\n",
      "\n",
      "\n",
      "==================================================================\n",
      "p = 5600 \n",
      "......................Training.............\n",
      "the training/testing error is : 0.022666666666666665\n",
      "..........................validation ing...............\n"
     ]
    },
    {
     "name": "stderr",
     "output_type": "stream",
     "text": [
      " 93%|█████████▎| 28/30 [13:41<02:20, 70.18s/it]"
     ]
    },
    {
     "name": "stdout",
     "output_type": "stream",
     "text": [
      "the training/testing error is : 0.05316666666666667\n",
      "\n",
      "\n",
      "==================================================================\n",
      "p = 5800 \n",
      "......................Training.............\n",
      "the training/testing error is : 0.0215\n",
      "..........................validation ing...............\n"
     ]
    },
    {
     "name": "stderr",
     "output_type": "stream",
     "text": [
      " 97%|█████████▋| 29/30 [15:08<01:15, 75.30s/it]"
     ]
    },
    {
     "name": "stdout",
     "output_type": "stream",
     "text": [
      "the training/testing error is : 0.05383333333333333\n",
      "\n",
      "\n",
      "==================================================================\n",
      "p = 6000 \n",
      "......................Training.............\n",
      "the training/testing error is : 0.01983333333333333\n",
      "..........................validation ing...............\n"
     ]
    },
    {
     "name": "stderr",
     "output_type": "stream",
     "text": [
      "100%|██████████| 30/30 [16:47<00:00, 33.58s/it]"
     ]
    },
    {
     "name": "stdout",
     "output_type": "stream",
     "text": [
      "the training/testing error is : 0.05275\n",
      "\n",
      "\n"
     ]
    },
    {
     "name": "stderr",
     "output_type": "stream",
     "text": [
      "\n"
     ]
    },
    {
     "data": {
      "image/png": "[encoded data removed]",
      "text/plain": [
       "<Figure size 432x288 with 1 Axes>"
      ]
     },
     "metadata": {
      "needs_background": "light"
     },
     "output_type": "display_data"
    },
    {
     "data": {
      "text/plain": [
       "<Figure size 720x576 with 0 Axes>"
      ]
     },
     "metadata": {},
     "output_type": "display_data"
    }
   ],
   "source": [
    "portion = 0.8\n",
    "ps = np.arange(200,6001,200)\n",
    "all_train_errors = []\n",
    "all_validation_errors = []\n",
    "num_training= X_train.shape[0]\n",
    "num_test= X_test.shape[0]\n",
    "d = X_train.shape[1]\n",
    "\n",
    "############### cross validation of shuffled data  #########################\n",
    "shuffled_indices = np.arange(num_training)\n",
    "np.random.shuffle(shuffled_indices)\n",
    "train_indices = shuffled_indices[0:int(portion * num_training)]\n",
    "validation_indices = shuffled_indices[int(portion * num_training) : ]\n",
    "\n",
    "####################creating labels##########################\n",
    "Yp_train = Y_train[train_indices, :]\n",
    "labels_train_p = labels_train[train_indices]\n",
    "labels_validate_p = labels_train[validation_indices]\n",
    "\n",
    "optimal_theta = None\n",
    "optimal_p = -1\n",
    "minimized_error = 10**10\n",
    "optimal_Xmean=None;\n",
    "optimal_Ymean = None\n",
    "optimal_std=None\n",
    "for p in tqdm(ps):\n",
    "    rreg = RidgeReg(Lambda = 1E-4);\n",
    "    print(\"==================================================================\")\n",
    "    print(\"p = {} \".format(p))\n",
    "    \n",
    "    ######################### Generating G b h #########################\n",
    "    G = np.random.normal(0, np.sqrt(0.1), size = (p,d))\n",
    "    b = np.random.uniform(low=0, high=2*np.pi, size=(p,1)) \n",
    "    h = np.cos(np.dot(X_train, G.T) + b.T)\n",
    "    \n",
    "\n",
    "    ################# Getting train and validate #####################\n",
    "    Xp_train = h[train_indices, :]\n",
    "    Xp_validate = h[validation_indices, :]\n",
    "    \n",
    "    ################# training error ##########################\n",
    "    print(\"......................Training.............\")\n",
    "    rreg.train2(Xp_train, Yp_train)\n",
    "    rreg.predict2(Xp_train)\n",
    "    train_error = error(len(labels_train_p), rreg.predictedY, labels_train_p)\n",
    "    all_train_errors.append(train_error)\n",
    "    \n",
    "    ################### validation error ###############################\n",
    "    print(\"..........................validation ing...............\")\n",
    "    rreg.predict2(Xp_validate)\n",
    "    validation_error =error(len(labels_validate_p), rreg.predictedY, labels_validate_p)\n",
    "    all_validation_errors.append(validation_error)\n",
    "    print(\"\\n\")\n",
    "    \n",
    "    ####################save W and p ####################3333##############\n",
    "    if(minimized_error > validation_error):\n",
    "        minimized_error = validation_error\n",
    "        optimal_theta= rreg.theta\n",
    "        #print(\"the current minimal W has norm: {}\".format(np.linalg.norm(optimal_theta)))\n",
    "        optimal_p = p\n",
    "        optimal_std = rreg.std\n",
    "        optimal_Xmean = rreg.mean\n",
    "        optimal_Ymean = rreg.Ymean\n",
    "        \n",
    "\n",
    "\n",
    "\n",
    "# Plot the results!\n",
    "fig = plt.figure()\n",
    "plt.plot(ps,all_train_errors,'g-.')\n",
    "plt.plot(ps,all_validation_errors,'y-*')\n",
    "plt.legend([\"training error\", \"validation error\"])\n",
    "plt.xlabel('p')\n",
    "plt.ylabel('error rate')\n",
    "plt.figure(figsize=(10,8))\n",
    "fig.savefig('B2.png')\n",
    "plt.show()"
   ]
  },
  {
   "cell_type": "code",
   "execution_count": 11,
   "metadata": {},
   "outputs": [],
   "source": [
    "##############################################################################################\n",
    "#######################################B2 b###################################################\n",
    "#######################################################################################3######"
   ]
  },
  {
   "cell_type": "code",
   "execution_count": 50,
   "metadata": {},
   "outputs": [],
   "source": [
    "rreg = RidgeReg(Lambda = 1E-4, theta=np.array(optimal_theta),Xmean=optimal_Xmean,Ymean=optimal_Ymean,std =optimal_std);"
   ]
  },
  {
   "cell_type": "code",
   "execution_count": 51,
   "metadata": {},
   "outputs": [
    {
     "name": "stdout",
     "output_type": "stream",
     "text": [
      "the size of h is (10000, 6000),the size of G is (6000, 784) \n",
      "the training/testing error is : 0.9075000000000001\n"
     ]
    }
   ],
   "source": [
    "######################### Generating G b h ########################\n",
    "G= np.random.normal(0, np.sqrt(0.1), size = (optimal_p,d))\n",
    "b = np.random.uniform(low=0, high=2*np.pi, size=(optimal_p,1)) \n",
    "h = np.cos(np.dot(X_test, G.T) + b.T)\n",
    "print(\"the size of h is {0},the size of G is {1} \".format(h.shape,G.shape))\n",
    "rreg.predict2(h)\n",
    "test_error =error(len(labels_test), rreg.predictedY, labels_test)"
   ]
  },
  {
   "cell_type": "code",
   "execution_count": 85,
   "metadata": {},
   "outputs": [
    {
     "name": "stdout",
     "output_type": "stream",
     "text": [
      "the testing error is : 0.013581015157406196\n",
      "the 95% confidence interval is ( 0.8939189848425939 , 0.9210810151574063 )\n"
     ]
    }
   ],
   "source": [
    "######################### interval ##########################\n",
    "delta = 0.05\n",
    "z = np.sqrt((np.log(2/delta))/(2*num_test))\n",
    "print(\"the testing error is : {}\". format(z))\n",
    "left_bound = test_error - z\n",
    "right_bound = test_error + z\n",
    "print(\"the 95% confidence interval is ( {0} , {1} )\".format(left_bound,right_bound))"
   ]
  },
  {
   "cell_type": "code",
   "execution_count": 87,
   "metadata": {},
   "outputs": [
    {
     "data": {
      "text/plain": [
       "0.013581015157406196"
      ]
     },
     "execution_count": 87,
     "metadata": {},
     "output_type": "execute_result"
    }
   ],
   "source": [
    "z"
   ]
  },
  {
   "cell_type": "code",
   "execution_count": null,
   "metadata": {},
   "outputs": [],
   "source": []
  }
 ],
 "metadata": {
  "kernelspec": {
   "display_name": "Python 3",
   "language": "python",
   "name": "python3"
  },
  "language_info": {
   "codemirror_mode": {
    "name": "ipython",
    "version": 3
   },
   "file_extension": ".py",
   "mimetype": "text/x-python",
   "name": "python",
   "nbconvert_exporter": "python",
   "pygments_lexer": "ipython3",
   "version": "3.7.6"
  }
 },
 "nbformat": 4,
 "nbformat_minor": 4
}

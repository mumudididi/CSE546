{
 "cells": [
  {
   "cell_type": "code",
   "execution_count": 1,
   "metadata": {},
   "outputs": [],
   "source": [
    "from mnist import MNIST\n",
    "import numpy as np\n",
    "import matplotlib.pyplot as plt\n",
    "from scipy import linalg\n",
    "from tqdm import tqdm\n",
    "from ipynb.fs.full.GradientDescent import costFunction\n",
    "from ipynb.fs.full.GradientDescent import gradF\n",
    "from ipynb.fs.full.GradientDescent import gradient_descent\n",
    "from ipynb.fs.full.GradientDescent import selective_gradF"
   ]
  },
  {
   "cell_type": "code",
   "execution_count": 2,
   "metadata": {},
   "outputs": [],
   "source": [
    "def load_dataset():\n",
    "  mndata = MNIST('/home/mumu/Desktop/CSE546/hw2/data/python-mnist/data')\n",
    "  X_train, labels_train = map(np.array, mndata.load_training())\n",
    "  X_test, labels_test = map(np.array, mndata.load_testing())\n",
    "  X_train = X_train/255.0\n",
    "  X_test = X_test/255.0\n",
    "  return X_test,labels_test,X_train,labels_train"
   ]
  },
  {
   "cell_type": "code",
   "execution_count": 3,
   "metadata": {},
   "outputs": [],
   "source": [
    "X_test,labels_test,X_train,labels_train=load_dataset()"
   ]
  },
  {
   "cell_type": "code",
   "execution_count": 4,
   "metadata": {},
   "outputs": [],
   "source": [
    "i, = np.where(labels_train==2)\n",
    "j, = np.where(labels_train==7)\n",
    "#new collection indices containing only 2 and 7 in the original order\n",
    "ind = np.sort(np.r_[i,j])\n",
    "################################# training set ########################\n",
    "X_train_new = X_train[ind,:]\n",
    "Y_train_new = labels_train[ind].astype(np.float32)\n",
    "Y_train_new[Y_train_new ==2] =-1\n",
    "Y_train_new[Y_train_new ==7] =1\n",
    "################################# testing set ########################\n",
    "i, = np.where(labels_test==2)\n",
    "j, = np.where(labels_test==7)\n",
    "#new collection indices containing only 2 and 7 in the original order\n",
    "ind = np.sort(np.r_[i,j])\n",
    "X_test_new = X_test[ind,:]\n",
    "Y_test_new = labels_test[ind].astype(np.float32)\n",
    "Y_test_new[Y_test_new ==2] =-1\n",
    "Y_test_new[Y_test_new ==7] =1"
   ]
  },
  {
   "cell_type": "code",
   "execution_count": null,
   "metadata": {},
   "outputs": [],
   "source": [
    "#########################################################################\n",
    "########################### part  BBBBBBB   #############################\n",
    "#########################################################################"
   ]
  },
  {
   "cell_type": "code",
   "execution_count": 29,
   "metadata": {},
   "outputs": [
    {
     "name": "stdout",
     "output_type": "stream",
     "text": [
      "it takes 24 iterations to converge\n"
     ]
    }
   ],
   "source": [
    "################################ training ################################\n",
    "n,d = X_train_new.shape\n",
    "theta_init = np.zeros(d+1)\n",
    "lmbda = .1;\n",
    "gradient = lambda theta : gradF(theta,X_train_new,Y_train_new,lmbda)\n",
    "theta_train,theta_list_train,num_iteration_train = gradient_descent \\\n",
    "(theta_init,gradient,step_size=0.1, tolerence=0.001)\n"
   ]
  },
  {
   "cell_type": "code",
   "execution_count": 30,
   "metadata": {},
   "outputs": [],
   "source": [
    "######################### getting J for each theta/Iteration #####################\n",
    "J = lambda theta : costFunction(theta,X_train_new,Y_train_new,lmbda)\n",
    "J_list_train = [J(theta) for theta in theta_list_train]\n",
    "\n",
    "J = lambda theta : costFunction(theta,X_test_new,Y_test_new,lmbda)\n",
    "J_list_test = [J(theta) for theta in theta_list_train]\n"
   ]
  },
  {
   "cell_type": "code",
   "execution_count": 31,
   "metadata": {},
   "outputs": [
    {
     "data": {
      "text/plain": [
       "Text(0.5, 0, 'number of iteration')"
      ]
     },
     "execution_count": 31,
     "metadata": {},
     "output_type": "execute_result"
    },
    {
     "data": {
      "image/png": "[encoded data removed]",
      "text/plain": [
       "<Figure size 432x288 with 1 Axes>"
      ]
     },
     "metadata": {
      "needs_background": "light"
     },
     "output_type": "display_data"
    }
   ],
   "source": [
    "############################### plotting J vs. Iterations #########################\n",
    "plt.plot(J_list_train)\n",
    "plt.plot(J_list_test)\n",
    "plt.title(\"J values as a function of iteration count\")\n",
    "plt.ylabel(\"Function value J(theta)\")\n",
    "plt.xlabel(\"number of iteration\")"
   ]
  },
  {
   "cell_type": "code",
   "execution_count": 38,
   "metadata": {},
   "outputs": [],
   "source": [
    "#################################### calculating error rate #####################################\n",
    "error_count_list_train = []\n",
    "error_count_list_test = []\n",
    "for theta_train in theta_list_train: \n",
    "    \n",
    "    predicted_train = np.sign(np.c_[np.ones((X_train_new.shape[0],)),X_train_new] @ theta_train)\n",
    "    predicted_test = np.sign(np.c_[np.ones((X_test_new.shape[0],)),X_test_new] @ theta_train)\n",
    "    count = 0\n",
    "    for a,b in zip (predicted_train,Y_train_new):\n",
    "        if(a != b):\n",
    "            count += 1\n",
    "    error_count_list_train.append(count)\n",
    "    \n",
    "    count = 0\n",
    "    for a,b in zip (predicted_test,Y_test_new):\n",
    "        if(a != b):\n",
    "            count += 1\n",
    "    error_count_list_test.append(count)"
   ]
  },
  {
   "cell_type": "code",
   "execution_count": 39,
   "metadata": {},
   "outputs": [
    {
     "data": {
      "text/plain": [
       "'\\nas we designed, w_init = [b , w0,w1,w2....] = [0,0,0,0,.....], sign() returns 0\\nnp.sign(np.c_[np.ones((X_train_new.shape[0],)),X_train_new] @ theta_list_train[0])\\nnp.sign(np.c_[np.ones((X_test_new.shape[0],)),X_test_new] @ theta_list_train[0])\\n'"
      ]
     },
     "execution_count": 39,
     "metadata": {},
     "output_type": "execute_result"
    },
    {
     "data": {
      "image/png": "[encoded data removed]",
      "text/plain": [
       "<Figure size 432x288 with 1 Axes>"
      ]
     },
     "metadata": {
      "needs_background": "light"
     },
     "output_type": "display_data"
    }
   ],
   "source": [
    "#################################### plotting error ###############################################\n",
    "n_train = X_train_new.shape[0]\n",
    "n_test = X_test_new.shape[0]\n",
    "plt.plot(np.array(error_count_list_train)/n_train)\n",
    "plt.plot(np.array(error_count_list_test)/n_test)\n",
    "'''\n",
    "as we designed, w_init = [b , w0,w1,w2....] = [0,0,0,0,.....], sign() returns 0\n",
    "np.sign(np.c_[np.ones((X_train_new.shape[0],)),X_train_new] @ theta_list_train[0])\n",
    "np.sign(np.c_[np.ones((X_test_new.shape[0],)),X_test_new] @ theta_list_train[0])\n",
    "'''"
   ]
  },
  {
   "cell_type": "code",
   "execution_count": 5,
   "metadata": {},
   "outputs": [],
   "source": [
    "#########################################################################\n",
    "########################### part  CCCCCCCC  #############################\n",
    "#########################################################################"
   ]
  },
  {
   "cell_type": "code",
   "execution_count": 19,
   "metadata": {},
   "outputs": [
    {
     "name": "stdout",
     "output_type": "stream",
     "text": [
      "it takes 182 iterations to converge\n"
     ]
    }
   ],
   "source": [
    "################################ SGD #####################################################\n",
    "m=1\n",
    "n,d = X_train_new.shape\n",
    "theta_init = np.zeros(d+1)\n",
    "lmbda = .1;\n",
    "selective_gradient = lambda theta : selective_gradF(theta,X_train_new,Y_train_new,lmbda,m)\n",
    "theta_train_c,theta_list_train_c,num_iteration_train_c = gradient_descent \\\n",
    "(theta_init,selective_gradient,step_size=0.01, tolerence=0.03)"
   ]
  },
  {
   "cell_type": "code",
   "execution_count": 20,
   "metadata": {},
   "outputs": [],
   "source": [
    "######################### getting J for each theta/Iteration #####################\n",
    "J = lambda theta : costFunction(theta,X_train_new,Y_train_new,lmbda)\n",
    "J_list_train = [J(theta) for theta in theta_list_train_c]\n",
    "\n",
    "J = lambda theta : costFunction(theta,X_test_new,Y_test_new,lmbda)\n",
    "J_list_test = [J(theta) for theta in theta_list_train_c]\n"
   ]
  },
  {
   "cell_type": "code",
   "execution_count": 28,
   "metadata": {},
   "outputs": [
    {
     "data": {
      "text/plain": [
       "Text(0.5, 0, 'number of iteration')"
      ]
     },
     "execution_count": 28,
     "metadata": {},
     "output_type": "execute_result"
    },
    {
     "data": {
      "image/png": "[encoded data removed]",
      "text/plain": [
       "<Figure size 432x288 with 1 Axes>"
      ]
     },
     "metadata": {
      "needs_background": "light"
     },
     "output_type": "display_data"
    }
   ],
   "source": [
    "############################### plotting J vs. Iterations #########################\n",
    "plt.plot(J_list_train,'r-')\n",
    "plt.plot(J_list_test,'y-')\n",
    "plt.title(\"PART C:J values as a function of iteration count\")\n",
    "plt.ylabel(\"Function value J(theta)\")\n",
    "plt.xlabel(\"number of iteration\")"
   ]
  },
  {
   "cell_type": "code",
   "execution_count": 32,
   "metadata": {},
   "outputs": [],
   "source": [
    "#################################### calculating error rate #####################################\n",
    "error_count_list_train_c = []\n",
    "error_count_list_test_c = []\n",
    "for theta_train in theta_list_train_c: \n",
    "    \n",
    "    predicted_train_c = np.sign(np.c_[np.ones((X_train_new.shape[0],)),X_train_new] @ theta_train)\n",
    "    predicted_test_c = np.sign(np.c_[np.ones((X_test_new.shape[0],)),X_test_new] @ theta_train)\n",
    "    count = 0\n",
    "    for a,b in zip (predicted_train_c,Y_train_new):\n",
    "        if(a != b):\n",
    "            count += 1\n",
    "    error_count_list_train_c.append(count)\n",
    "    \n",
    "    count = 0\n",
    "    for a,b in zip (predicted_test_c,Y_test_new):\n",
    "        if(a != b):\n",
    "            count += 1\n",
    "    error_count_list_test_c.append(count)"
   ]
  },
  {
   "cell_type": "code",
   "execution_count": 36,
   "metadata": {},
   "outputs": [
    {
     "data": {
      "text/plain": [
       "[<matplotlib.lines.Line2D at 0x7faddae18390>]"
      ]
     },
     "execution_count": 36,
     "metadata": {},
     "output_type": "execute_result"
    },
    {
     "data": {
      "image/png": "[encoded data removed]",
      "text/plain": [
       "<Figure size 432x288 with 1 Axes>"
      ]
     },
     "metadata": {
      "needs_background": "light"
     },
     "output_type": "display_data"
    }
   ],
   "source": [
    "#################################### plotting error ###############################################\n",
    "n_train = X_train_new.shape[0]\n",
    "n_test = X_test_new.shape[0]\n",
    "plt.plot(np.array(error_count_list_train_c)/n_train,'r-')\n",
    "plt.plot(np.array(error_count_list_test_c)/n_test,'y-')\n",
    "\n",
    "\n",
    "# as we designed, w_init = [b , w0,w1,w2....] = [0,0,0,0,.....], sign() returns 0\n",
    "# np.sign(np.c_[np.ones((X_train_new.shape[0],)),X_train_new] @ theta_list_train[0])\n",
    "# np.sign(np.c_[np.ones((X_test_new.shape[0],)),X_test_new] @ theta_list_train[0])\n"
   ]
  },
  {
   "cell_type": "code",
   "execution_count": 37,
   "metadata": {},
   "outputs": [],
   "source": [
    "#########################################################################\n",
    "########################### part  DDDDDDDD  #############################\n",
    "#########################################################################"
   ]
  },
  {
   "cell_type": "code",
   "execution_count": 44,
   "metadata": {},
   "outputs": [
    {
     "name": "stdout",
     "output_type": "stream",
     "text": [
      "it takes 200 iterations to converge\n"
     ]
    }
   ],
   "source": [
    "################################ SGD #####################################################\n",
    "m=100\n",
    "n,d = X_train_new.shape\n",
    "theta_init = np.zeros(d+1)\n",
    "lmbda = .1;\n",
    "selective_gradient = lambda theta : selective_gradF(theta,X_train_new,Y_train_new,lmbda,m)\n",
    "theta_train_d,theta_list_train_d,num_iteration_train_d = gradient_descent \\\n",
    "(theta_init,selective_gradient,step_size=0.01, tolerence=0.02)"
   ]
  },
  {
   "cell_type": "code",
   "execution_count": 45,
   "metadata": {},
   "outputs": [],
   "source": [
    "######################### getting J for each theta/Iteration #####################\n",
    "J = lambda theta : costFunction(theta,X_train_new,Y_train_new,lmbda)\n",
    "J_list_train = [J(theta) for theta in theta_list_train_d]\n",
    "\n",
    "J = lambda theta : costFunction(theta,X_test_new,Y_test_new,lmbda)\n",
    "J_list_test = [J(theta) for theta in theta_list_train_d]\n"
   ]
  },
  {
   "cell_type": "code",
   "execution_count": 46,
   "metadata": {},
   "outputs": [
    {
     "data": {
      "text/plain": [
       "Text(0.5, 0, 'number of iteration')"
      ]
     },
     "execution_count": 46,
     "metadata": {},
     "output_type": "execute_result"
    },
    {
     "data": {
      "image/png": "[encoded data removed]",
      "text/plain": [
       "<Figure size 432x288 with 1 Axes>"
      ]
     },
     "metadata": {
      "needs_background": "light"
     },
     "output_type": "display_data"
    }
   ],
   "source": [
    "############################### plotting J vs. Iterations #########################\n",
    "plt.plot(J_list_train,'r-')\n",
    "plt.plot(J_list_test,'y-')\n",
    "plt.title(\"PART D:J values as a function of iteration count\")\n",
    "plt.ylabel(\"Function value J(theta)\")\n",
    "plt.xlabel(\"number of iteration\")"
   ]
  },
  {
   "cell_type": "code",
   "execution_count": 49,
   "metadata": {},
   "outputs": [],
   "source": [
    "#################################### calculating error rate #####################################\n",
    "error_count_list_train_d = []\n",
    "error_count_list_test_d = []\n",
    "for theta_train in theta_list_train_d: \n",
    "    \n",
    "    predicted_train_d = np.sign(np.c_[np.ones((X_train_new.shape[0],)),X_train_new] @ theta_train)\n",
    "    predicted_test_d = np.sign(np.c_[np.ones((X_test_new.shape[0],)),X_test_new] @ theta_train)\n",
    "    count = 0\n",
    "    for a,b in zip (predicted_train_d,Y_train_new):\n",
    "        if(a != b):\n",
    "            count += 1\n",
    "    error_count_list_train_d.append(count)\n",
    "    \n",
    "    count = 0\n",
    "    for a,b in zip (predicted_test_d,Y_test_new):\n",
    "        if(a != b):\n",
    "            count += 1\n",
    "    error_count_list_test_d.append(count)"
   ]
  },
  {
   "cell_type": "code",
   "execution_count": 50,
   "metadata": {},
   "outputs": [
    {
     "data": {
      "text/plain": [
       "[<matplotlib.lines.Line2D at 0x7faddab9cbd0>]"
      ]
     },
     "execution_count": 50,
     "metadata": {},
     "output_type": "execute_result"
    },
    {
     "data": {
      "image/png": "[encoded data removed]",
      "text/plain": [
       "<Figure size 432x288 with 1 Axes>"
      ]
     },
     "metadata": {
      "needs_background": "light"
     },
     "output_type": "display_data"
    }
   ],
   "source": [
    "#################################### plotting error ###############################################\n",
    "n_train = X_train_new.shape[0]\n",
    "n_test = X_test_new.shape[0]\n",
    "plt.plot(np.array(error_count_list_train_d)/n_train,'r-')\n",
    "plt.plot(np.array(error_count_list_test_d)/n_test,'y-')\n",
    "\n",
    "\n",
    "# as we designed, w_init = [b , w0,w1,w2....] = [0,0,0,0,.....], sign() returns 0\n",
    "# np.sign(np.c_[np.ones((X_train_new.shape[0],)),X_train_new] @ theta_list_train[0])\n",
    "# np.sign(np.c_[np.ones((X_test_new.shape[0],)),X_test_new] @ theta_list_train[0])\n"
   ]
  },
  {
   "cell_type": "code",
   "execution_count": 40,
   "metadata": {},
   "outputs": [],
   "source": [
    "\n"
   ]
  }
 ],
 "metadata": {
  "kernelspec": {
   "display_name": "Python 3",
   "language": "python",
   "name": "python3"
  },
  "language_info": {
   "codemirror_mode": {
    "name": "ipython",
    "version": 3
   },
   "file_extension": ".py",
   "mimetype": "text/x-python",
   "name": "python",
   "nbconvert_exporter": "python",
   "pygments_lexer": "ipython3",
   "version": "3.7.6"
  }
 },
 "nbformat": 4,
 "nbformat_minor": 4
}

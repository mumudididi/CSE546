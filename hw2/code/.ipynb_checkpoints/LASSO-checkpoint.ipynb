{
 "cells": [
  {
   "cell_type": "code",
   "execution_count": 1,
   "metadata": {},
   "outputs": [],
   "source": [
    "import numpy as np\n",
    "import matplotlib.pyplot as plt"
   ]
  },
  {
   "cell_type": "code",
   "execution_count": 2,
   "metadata": {},
   "outputs": [],
   "source": [
    "############### CSE 546 ########################\n",
    "################# HW 2 #########################\n",
    "############## MUDI QIN ########################"
   ]
  },
  {
   "cell_type": "code",
   "execution_count": 3,
   "metadata": {},
   "outputs": [],
   "source": [
    "############### LASSO SET UP ###################"
   ]
  },
  {
   "cell_type": "code",
   "execution_count": 4,
   "metadata": {},
   "outputs": [],
   "source": [
    "def CoordinateDescent(y,X, Lambda,tolerence,w_init=None):\n",
    "    '''\n",
    "    n is the number of record\n",
    "    d is \n",
    "    \n",
    "    y is a n-by-1 vector\n",
    "    \n",
    "    X is composed of [x1;x2;x3...;xn], where xn is 1-by-d\n",
    "    \n",
    "    w is is a d-by-1 vector\n",
    "    \n",
    "    '''\n",
    "    n,d = X.shape\n",
    "    b=0\n",
    "    ak=0\n",
    "    ck = 0\n",
    "    ek = 1000;\n",
    "    w_curr=np.zeros((d,));\n",
    "    loop_count =0\n",
    "    print(\"+++++++++++++++++++++++++++++Calculating for Lambda = {}+++++++++++++++++++++++++++++\".format(Lambda))\n",
    "    while (ek > tolerence):        \n",
    "        if(loop_count > 10000):\n",
    "            print(\"didn't converge\")\n",
    "            break\n",
    "        loop_count += 1 \n",
    "        w_prev = np.copy (w_curr)\n",
    "        b0=np.dot(w_prev.T,X.T)\n",
    "        #print(\"the shape of b0 is {}\".format(b0.shape))\n",
    "        c = np.zeros((d,))\n",
    "        b = 1/n * (np.sum(y -b0)) \n",
    "        #print(\"the shape of b is {}\".format(b.shape))\n",
    "        #print(\"b is {}\".format(b))\n",
    "        #print(\"b shape {}\".format(b.shape))\n",
    "        a = 2*np.sum(np.square(X), axis=0)\n",
    "        for k in range(0,d):\n",
    "#             selector = [j for j in range(d) if j != k]\n",
    "#             p1=np.dot(X[:, selector], w_curr[selector])+b\n",
    "#             p2 = y-p1\n",
    "#             c[k] = 2 * np.dot(X[:,k], p2 )\n",
    "            c[k] = 2*np.dot(X[:, k], y - (b + np.dot(w_curr.T, X.T) - w_curr[k]*X[:, k]))\n",
    "            #print(\"the shape of ck is {}\".format(ck.shape))\n",
    "            #print(ck)\n",
    "            #print(ck.shape)\n",
    "            if (c[k] < -Lambda):\n",
    "                w_curr[k] = (c[k]+ Lambda) / a[k]\n",
    "            elif (c[k] > Lambda):\n",
    "                w_curr[k] = (c[k]- Lambda) / a[k]\n",
    "            else:\n",
    "                w_curr[k] = 0  \n",
    "            #if (w_curr[k]!= 0):\n",
    "                #print(w_curr[k])\n",
    "                \n",
    "        #print(np.linalg.norm(w_curr))\n",
    "        #print(np.linalg.norm(w_prev))\n",
    "        ek = np.max(np.abs(w_curr - w_prev))\n",
    "    print(\"....................... it takes {} iterations to converge....................\".format(loop_count))\n",
    "    print(\"........error is {}............\".format(ek))\n",
    "    #Lambda  = Lambda/2\n",
    "    return w_curr\n",
    "            \n",
    "        \n",
    "    "
   ]
  },
  {
   "cell_type": "code",
   "execution_count": 5,
   "metadata": {},
   "outputs": [],
   "source": [
    "##################################################################\n",
    "######################## A 4 #####################################\n",
    "##################################################################"
   ]
  },
  {
   "cell_type": "code",
   "execution_count": 6,
   "metadata": {},
   "outputs": [],
   "source": [
    "################## setting up parameters ####################\n",
    "n = 500; d= 1000; k = 100; sigma =1\n",
    "w1 = np.array([i/k for i in range(1,k+1)])\n",
    "w2 = np.zeros(900,dtype=w1.dtype);\n",
    "w_defined=np.r_[w1,w2]"
   ]
  },
  {
   "cell_type": "code",
   "execution_count": 7,
   "metadata": {},
   "outputs": [
    {
     "name": "stdout",
     "output_type": "stream",
     "text": [
      "(500,)\n"
     ]
    }
   ],
   "source": [
    "################## generate record X ####################\n",
    "np.random.seed(321)\n",
    "X = np.random.normal(size = (n,d))\n",
    "################## generte y ############################\n",
    "y = np.dot(w_defined.T,X.T) + np.random.normal(scale = np.sqrt(sigma), size=(n,))\n",
    "print(y.shape)"
   ]
  },
  {
   "cell_type": "code",
   "execution_count": 8,
   "metadata": {},
   "outputs": [],
   "source": [
    "######################### LambdaMAx ######################33\n",
    "Lambda = 2*np.max( np.abs(np.dot(X.T, (y-np.mean(y)).T)))"
   ]
  },
  {
   "cell_type": "code",
   "execution_count": null,
   "metadata": {},
   "outputs": [],
   "source": [
    "#################################################################################\n",
    "################################### A4 a ########################################\n",
    "#################################################################################"
   ]
  },
  {
   "cell_type": "code",
   "execution_count": 9,
   "metadata": {},
   "outputs": [
    {
     "name": "stdout",
     "output_type": "stream",
     "text": [
      "+++++++++++++++++++++++++++++Calculating for Lambda = 1276.044102178305+++++++++++++++++++++++++++++\n",
      "....................... it takes 1 iterations to converge....................\n",
      "........error is 0.0............\n",
      "non-zero entries count : 0 \n",
      "+++++++++++++++++++++++++++++Calculating for Lambda = 638.0220510891525+++++++++++++++++++++++++++++\n",
      "....................... it takes 7 iterations to converge....................\n",
      "........error is 4.5659093030211984e-05............\n",
      "non-zero entries count : 41 \n",
      "+++++++++++++++++++++++++++++Calculating for Lambda = 319.0110255445762+++++++++++++++++++++++++++++\n",
      "....................... it takes 10 iterations to converge....................\n",
      "........error is 5.931050070814847e-05............\n",
      "non-zero entries count : 80 \n",
      "+++++++++++++++++++++++++++++Calculating for Lambda = 159.5055127722881+++++++++++++++++++++++++++++\n",
      "....................... it takes 12 iterations to converge....................\n",
      "........error is 7.914814171627871e-05............\n",
      "non-zero entries count : 126 \n",
      "+++++++++++++++++++++++++++++Calculating for Lambda = 79.75275638614406+++++++++++++++++++++++++++++\n",
      "....................... it takes 19 iterations to converge....................\n",
      "........error is 7.482086623546852e-05............\n",
      "non-zero entries count : 199 \n",
      "+++++++++++++++++++++++++++++Calculating for Lambda = 39.87637819307203+++++++++++++++++++++++++++++\n",
      "....................... it takes 36 iterations to converge....................\n",
      "........error is 8.503278681352977e-05............\n",
      "non-zero entries count : 283 \n",
      "+++++++++++++++++++++++++++++Calculating for Lambda = 19.938189096536014+++++++++++++++++++++++++++++\n",
      "....................... it takes 62 iterations to converge....................\n",
      "........error is 9.281536839100823e-05............\n",
      "non-zero entries count : 371 \n",
      "+++++++++++++++++++++++++++++Calculating for Lambda = 9.969094548268007+++++++++++++++++++++++++++++\n",
      "....................... it takes 135 iterations to converge....................\n",
      "........error is 9.884973574977862e-05............\n",
      "non-zero entries count : 421 \n",
      "+++++++++++++++++++++++++++++Calculating for Lambda = 4.984547274134004+++++++++++++++++++++++++++++\n",
      "....................... it takes 233 iterations to converge....................\n",
      "........error is 9.827994385169792e-05............\n",
      "non-zero entries count : 468 \n",
      "+++++++++++++++++++++++++++++Calculating for Lambda = 2.492273637067002+++++++++++++++++++++++++++++\n",
      "....................... it takes 319 iterations to converge....................\n",
      "........error is 9.987048033764656e-05............\n",
      "non-zero entries count : 498 \n",
      "+++++++++++++++++++++++++++++Calculating for Lambda = 1.246136818533501+++++++++++++++++++++++++++++\n",
      "....................... it takes 508 iterations to converge....................\n",
      "........error is 9.961901241699322e-05............\n",
      "non-zero entries count : 516 \n",
      "+++++++++++++++++++++++++++++Calculating for Lambda = 0.6230684092667504+++++++++++++++++++++++++++++\n",
      "....................... it takes 696 iterations to converge....................\n",
      "........error is 9.99463305993431e-05............\n",
      "non-zero entries count : 559 \n",
      "+++++++++++++++++++++++++++++Calculating for Lambda = 0.3115342046333752+++++++++++++++++++++++++++++\n",
      "....................... it takes 1007 iterations to converge....................\n",
      "........error is 9.986650269471278e-05............\n",
      "non-zero entries count : 579 \n",
      "+++++++++++++++++++++++++++++Calculating for Lambda = 0.1557671023166876+++++++++++++++++++++++++++++\n",
      "....................... it takes 1279 iterations to converge....................\n",
      "........error is 9.935870902033628e-05............\n",
      "non-zero entries count : 629 \n",
      "+++++++++++++++++++++++++++++Calculating for Lambda = 0.0778835511583438+++++++++++++++++++++++++++++\n",
      "....................... it takes 1594 iterations to converge....................\n",
      "........error is 9.98916073887135e-05............\n",
      "non-zero entries count : 687 \n",
      "+++++++++++++++++++++++++++++Calculating for Lambda = 0.0389417755791719+++++++++++++++++++++++++++++\n",
      "....................... it takes 1381 iterations to converge....................\n",
      "........error is 9.983385581144397e-05............\n",
      "non-zero entries count : 807 \n",
      "+++++++++++++++++++++++++++++Calculating for Lambda = 0.01947088778958595+++++++++++++++++++++++++++++\n",
      "....................... it takes 22 iterations to converge....................\n",
      "........error is 9.948655049119015e-05............\n",
      "non-zero entries count : 998 \n",
      "+++++++++++++++++++++++++++++Calculating for Lambda = 0.009735443894792976+++++++++++++++++++++++++++++\n",
      "....................... it takes 18 iterations to converge....................\n",
      "........error is 7.417144001875542e-05............\n",
      "non-zero entries count : 1000 \n"
     ]
    }
   ],
   "source": [
    "\n",
    "nonzero_entries = 0;\n",
    "zero_entries = d;\n",
    "lambda_zeros = {}\n",
    "W = list()\n",
    "while (zero_entries != 0):\n",
    "    w = CoordinateDescent(y,X,Lambda,1E-4)\n",
    "    W.append(w)\n",
    "    zero_entries = np.count_nonzero(w==0)\n",
    "    nonzero_entries = d - zero_entries\n",
    "    lambda_zeros.update({Lambda:nonzero_entries})\n",
    "    print(\"non-zero entries count : {} \".format(nonzero_entries))\n",
    "    Lambda = Lambda/2"
   ]
  },
  {
   "cell_type": "code",
   "execution_count": 14,
   "metadata": {},
   "outputs": [
    {
     "data": {
      "image/png": "[encoded data removed]",
      "text/plain": [
       "<Figure size 432x288 with 1 Axes>"
      ]
     },
     "metadata": {
      "needs_background": "light"
     },
     "output_type": "display_data"
    }
   ],
   "source": [
    "\n",
    "lambdas = list(lambda_zeros.keys())\n",
    "nonzero_count = list(lambda_zeros.values())\n",
    "plt.plot(lambdas,nonzero_count,'r-o')\n",
    "plt.xscale('log')\n",
    "plt.yscale('linear')\n",
    "plt.xlabel(\"log(lambda)\")\n",
    "plt.ylabel(\"number of non-zero entries\")\n",
    "plt.title(\"number of non-zero entries as a function of lambda\")\n",
    "plt.savefig('A4_a_linearY')\n",
    "plt.show()"
   ]
  },
  {
   "cell_type": "code",
   "execution_count": 64,
   "metadata": {},
   "outputs": [
    {
     "data": {
      "text/plain": [
       "dict_keys([1276.044102178305, 638.0220510891525, 319.0110255445762, 159.5055127722881])"
      ]
     },
     "execution_count": 64,
     "metadata": {},
     "output_type": "execute_result"
    }
   ],
   "source": [
    "lambda_zeros.keys()"
   ]
  },
  {
   "cell_type": "code",
   "execution_count": null,
   "metadata": {},
   "outputs": [],
   "source": [
    "#################################################################################\n",
    "################################### A4 b ########################################\n",
    "#################################################################################"
   ]
  },
  {
   "cell_type": "code",
   "execution_count": 11,
   "metadata": {},
   "outputs": [
    {
     "name": "stderr",
     "output_type": "stream",
     "text": [
      "/home/mumu/anaconda3/lib/python3.7/site-packages/ipykernel_launcher.py:4: RuntimeWarning: invalid value encountered in true_divide\n",
      "  after removing the cwd from sys.path.\n"
     ]
    },
    {
     "data": {
      "text/plain": [
       "array([       nan, 0.14634146, 0.225     , 0.4047619 , 0.54271357,\n",
       "       0.66784452, 0.74393531, 0.7695962 , 0.78846154, 0.80321285,\n",
       "       0.81007752, 0.82289803, 0.82901554, 0.84260731, 0.8558952 ,\n",
       "       0.87608426, 0.8997996 , 0.9       ])"
      ]
     },
     "execution_count": 11,
     "metadata": {},
     "output_type": "execute_result"
    }
   ],
   "source": [
    "#################################### FDR ##########################################\n",
    "nonzero_count = np.array(nonzero_count)\n",
    "incorrect_nonzero = np.array([np.count_nonzero(x[k:]) for x in W])\n",
    "FDR = np.divide(incorrect_nonzero,nonzero_count)\n",
    "FDR"
   ]
  },
  {
   "cell_type": "code",
   "execution_count": 12,
   "metadata": {},
   "outputs": [
    {
     "data": {
      "text/plain": [
       "array([0.  , 0.35, 0.62, 0.75, 0.91, 0.94, 0.95, 0.97, 0.99, 0.98, 0.98,\n",
       "       0.99, 0.99, 0.99, 0.99, 1.  , 1.  , 1.  ])"
      ]
     },
     "execution_count": 12,
     "metadata": {},
     "output_type": "execute_result"
    }
   ],
   "source": [
    "################################### TPR ###########################################\n",
    "TPR =  np.array([np.count_nonzero(x[:k]) for x in W])/k\n",
    "TPR"
   ]
  },
  {
   "cell_type": "code",
   "execution_count": 15,
   "metadata": {},
   "outputs": [
    {
     "data": {
      "image/png": "[encoded data removed]",
      "text/plain": [
       "<Figure size 432x288 with 1 Axes>"
      ]
     },
     "metadata": {
      "needs_background": "light"
     },
     "output_type": "display_data"
    }
   ],
   "source": [
    "#################################### plot FDR, TPR ##################################\n",
    "plt.plot(FDR,TPR,'m-*')\n",
    "\n",
    "plt.xlabel(\"FDR\")\n",
    "plt.ylabel(\"TRP\")\n",
    "plt.title(\"False Discober Rate vs. True Positive Rate\")\n",
    "plt.savefig('A4_b')\n",
    "plt.show()"
   ]
  },
  {
   "cell_type": "code",
   "execution_count": null,
   "metadata": {},
   "outputs": [],
   "source": []
  }
 ],
 "metadata": {
  "kernelspec": {
   "display_name": "Python 3",
   "language": "python",
   "name": "python3"
  },
  "language_info": {
   "codemirror_mode": {
    "name": "ipython",
    "version": 3
   },
   "file_extension": ".py",
   "mimetype": "text/x-python",
   "name": "python",
   "nbconvert_exporter": "python",
   "pygments_lexer": "ipython3",
   "version": "3.7.6"
  }
 },
 "nbformat": 4,
 "nbformat_minor": 4
}

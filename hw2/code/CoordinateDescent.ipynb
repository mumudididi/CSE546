{
 "cells": [
  {
   "cell_type": "code",
   "execution_count": null,
   "metadata": {},
   "outputs": [],
   "source": [
    "import numpy as np\n"
   ]
  },
  {
   "cell_type": "code",
   "execution_count": 1,
   "metadata": {},
   "outputs": [],
   "source": [
    "def coordinate_descent(y,X, Lambda,tolerence,w_init=None):\n",
    "    '''\n",
    "    n is the number of record\n",
    "    d is \n",
    "    \n",
    "    y is a n-by-1 vector\n",
    "    \n",
    "    X is composed of [x1;x2;x3...;xn], where xn is 1-by-d\n",
    "    \n",
    "    w is is a d-by-1 vector\n",
    "    \n",
    "    '''\n",
    "    n,d = X.shape\n",
    "    b=0\n",
    "    ak=0\n",
    "    ck = 0\n",
    "    ek = 1000;\n",
    "    if(w_init is None):\n",
    "        w_curr=np.zeros((d,))\n",
    "    else: \n",
    "        w_curr = w_init\n",
    "    loop_count =0\n",
    "    print(\"+++++++++++++++++++++++++++++Calculating for Lambda = {}+++++++++++++++++++++++++++++\".format(Lambda))\n",
    "    while (ek > tolerence):        \n",
    "        if(loop_count > 10000):\n",
    "            print(\"didn't converge\")\n",
    "            break\n",
    "        loop_count += 1 \n",
    "        w_prev = np.copy (w_curr)\n",
    "        b0=np.dot(w_prev.T,X.T)\n",
    "        #print(\"the shape of b0 is {}\".format(b0.shape))\n",
    "        c = np.zeros((d,))\n",
    "        b = 1/n * (np.sum(y -b0)) \n",
    "        #print(\"the shape of b is {}\".format(b.shape))\n",
    "        #print(\"b is {}\".format(b))\n",
    "        #print(\"b shape {}\".format(b.shape))\n",
    "        a = 2*np.sum(np.square(X), axis=0)\n",
    "        for k in range(0,d):\n",
    "#             selector = [j for j in range(d) if j != k]\n",
    "#             p1=np.dot(X[:, selector], w_curr[selector])+b\n",
    "#             p2 = y-p1\n",
    "#             c[k] = 2 * np.dot(X[:,k], p2 )\n",
    "            c[k] = 2*np.dot(X[:, k], y - (b + np.dot(w_curr.T, X.T) - w_curr[k]*X[:, k]))\n",
    "            #print(\"the shape of ck is {}\".format(ck.shape))\n",
    "            #print(ck)\n",
    "            #print(ck.shape)\n",
    "            if (c[k] < -Lambda):\n",
    "                w_curr[k] = (c[k]+ Lambda) / a[k]\n",
    "            elif (c[k] > Lambda):\n",
    "                w_curr[k] = (c[k]- Lambda) / a[k]\n",
    "            else:\n",
    "                w_curr[k] = 0  \n",
    "            #if (w_curr[k]!= 0):\n",
    "                #print(w_curr[k])\n",
    "                \n",
    "        #print(np.linalg.norm(w_curr))\n",
    "        #print(np.linalg.norm(w_prev))\n",
    "        ek = np.max(np.abs(w_curr - w_prev))\n",
    "    print(\"....................... it takes {} iterations to converge....................\".format(loop_count))\n",
    "    print(\"........error is {}............\".format(ek))\n",
    "    #Lambda  = Lambda/2\n",
    "    return b,w_curr\n",
    "            \n",
    "        \n",
    "    "
   ]
  },
  {
   "cell_type": "code",
   "execution_count": 2,
   "metadata": {},
   "outputs": [],
   "source": [
    "def maxLambda(X,y):\n",
    "    '''\n",
    "    y is a n-by-1 vector\n",
    "    \n",
    "    X is composed of [x1;x2;x3...;xn], where xn is 1-by-d\n",
    "    \n",
    "    '''\n",
    "    return  2*np.max( np.abs(np.dot(X.T, (y-np.mean(y)).T)))"
   ]
  },
  {
   "cell_type": "code",
   "execution_count": null,
   "metadata": {},
   "outputs": [],
   "source": []
  }
 ],
 "metadata": {
  "kernelspec": {
   "display_name": "Python 3",
   "language": "python",
   "name": "python3"
  },
  "language_info": {
   "codemirror_mode": {
    "name": "ipython",
    "version": 3
   },
   "file_extension": ".py",
   "mimetype": "text/x-python",
   "name": "python",
   "nbconvert_exporter": "python",
   "pygments_lexer": "ipython3",
   "version": "3.7.6"
  }
 },
 "nbformat": 4,
 "nbformat_minor": 4
}

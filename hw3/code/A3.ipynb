{
 "cells": [
  {
   "cell_type": "code",
   "execution_count": 30,
   "metadata": {},
   "outputs": [],
   "source": [
    "import numpy as np\n",
    "import matplotlib.pyplot as plt\n",
    "from scipy import linalg\n",
    "from tqdm import tqdm"
   ]
  },
  {
   "cell_type": "code",
   "execution_count": 200,
   "metadata": {},
   "outputs": [],
   "source": [
    "def kernel_function_matrix(kernel_function, x,d):\n",
    "    # input x should be a (n,) vector\n",
    "    kernel_function2 = lambda x1,x2: kernel_function(x1,x2,d)\n",
    "    n = x.shape[0]\n",
    "    res = np.zeros((n,n),dtype = np.double)\n",
    "    for i in range(n):\n",
    "        for j in range(n):\n",
    "            res[i,j] = kernel_function2(x[i],x[j])\n",
    "    return res\n",
    "    \n",
    "def leave_one_out_CV(KSS, X,y, true_f,ds, lmbdas,kernel_func):\n",
    "    lmbda_opt = None; d_opt = None; error_opt = 100000000;\n",
    "    n = X.shape[0]\n",
    "    for d in ds :\n",
    "        for lmbda in lmbdas :\n",
    "            KSS.lmbda = lmbda\n",
    "            l2 = []\n",
    "            for i in range(n):\n",
    "                KSS.theta = None;\n",
    "                KSS.prediction = None;\n",
    "                X_cp = X[np.arange(n)!=i]\n",
    "                y_cp = y[np.arange(n)!=i]\n",
    "                K = kernel_function_matrix(kernel_func,X_cp,d)\n",
    "                KSS.train(K,y_cp)\n",
    "                KSS.predict(kernel_func,X[i],X_cp,d)\n",
    "                l2.append(KSS.prediction)\n",
    "            mse_error = 1/n * np.sum(np.power(true_f - np.array(l2),2))\n",
    "            if (mse_error < error_opt) :\n",
    "                error_opt = mse_error\n",
    "                d_opt = d\n",
    "                lmbda_opt = lmbda\n",
    "    return lmbda_opt,d_opt,error_opt\n",
    "                \n",
    "    "
   ]
  },
  {
   "cell_type": "code",
   "execution_count": 201,
   "metadata": {},
   "outputs": [],
   "source": [
    "class KernelRedgeReg:\n",
    "    def __init__(self, lmbda, theta = None):\n",
    "        self.lmbda = lmbda\n",
    "        self.theta = theta\n",
    "        self.prediction = None\n",
    "        \n",
    "    def train(self,K, y):\n",
    "        n = y.shape[0]\n",
    "        \n",
    "        self.theta = linalg.solve(K + self.lmbda * \n",
    "                                  np.eye(n,dtype = np.double), y)  # A\\b\n",
    "    \n",
    "    def predict(self,kernel_func, test_x, train_x,d):\n",
    "        kernel_func2 = lambda x1: kernel_func(x1,test_x,d)\n",
    "        prediction = 0\n",
    "        for a, x in zip(self.theta, train_x):\n",
    "            prediction += a * kernel_func2(x)\n",
    "        self.prediction = prediction\n",
    "        \n",
    "        "
   ]
  },
  {
   "cell_type": "code",
   "execution_count": 214,
   "metadata": {},
   "outputs": [],
   "source": [
    "d = 30;n = 30\n",
    "\n",
    "X =np.random.uniform(0,1,30)\n",
    "f = lambda x : 4 * np.sin(np.pi * x) * np.cos(6* np.pi * x**2)\n",
    "y = f(X) + np.random.normal(0,1,30)\n",
    "\n",
    "#kernel_func = lambda x1,x2,d: (1 + x1*x2)**d\n",
    "kernel_func = lambda x1,x2,d: np.exp(-d*np.power((x1 - x2),2))\n",
    "K = kernel_function_matrix(kernel_func,X,d)"
   ]
  },
  {
   "cell_type": "code",
   "execution_count": 215,
   "metadata": {},
   "outputs": [],
   "source": [
    "KRR = KernelRedgeReg(lmbda=None)\n",
    "ds = [1,5,10,20,50,100,1000,10000]\n",
    "lmbdas = [0.001,0.01,0.1,.5,1,10,100,1000,10000]\n",
    "lmbda_opt,d_opt,error_opt = leave_one_out_CV(KRR, X, y, f(X),ds, lmbdas,kernel_func)\n"
   ]
  },
  {
   "cell_type": "code",
   "execution_count": 216,
   "metadata": {},
   "outputs": [
    {
     "name": "stdout",
     "output_type": "stream",
     "text": [
      "0.1\n",
      "100\n",
      "0.4936774352898786\n"
     ]
    }
   ],
   "source": [
    "print(lmbda_opt)\n",
    "print(d_opt)\n",
    "print(error_opt)"
   ]
  },
  {
   "cell_type": "code",
   "execution_count": 217,
   "metadata": {},
   "outputs": [
    {
     "name": "stdout",
     "output_type": "stream",
     "text": [
      "[0.00442515 0.0593205  0.06209091 0.09439067 0.10107702 0.10407601\n",
      " 0.12471815 0.1479736  0.17997288 0.23431843 0.2348818  0.24835054\n",
      " 0.2761303  0.34902298 0.38729075 0.42695675 0.44678877 0.4885613\n",
      " 0.55995082 0.6027632  0.6126501  0.62687045 0.64060802 0.65420786\n",
      " 0.76011757 0.78929299 0.81118125 0.86949788 0.96113647 0.96737771]\n"
     ]
    }
   ],
   "source": [
    "#print(KRR.theta)\n",
    "X_copy= np.sort(np.copy(X))\n",
    "print(X_copy)\n",
    "KRR.lmbda = lmbda_opt\n",
    "K_opt = kernel_function_matrix(kernel_func,X,d_opt)\n",
    "KRR.train(K_opt,y)\n",
    "pred_list =[]\n",
    "for m in X_copy: \n",
    "    KRR.predict(kernel_func,m,X,d_opt) \n",
    "    pred_list.append(KRR.prediction)"
   ]
  },
  {
   "cell_type": "code",
   "execution_count": 218,
   "metadata": {},
   "outputs": [
    {
     "data": {
      "text/plain": [
       "[<matplotlib.lines.Line2D at 0x7f3453d00dd0>]"
      ]
     },
     "execution_count": 218,
     "metadata": {},
     "output_type": "execute_result"
    },
    {
     "data": {
      "image/png": "[encoded data removed]",
      "text/plain": [
       "<Figure size 432x288 with 1 Axes>"
      ]
     },
     "metadata": {
      "needs_background": "light"
     },
     "output_type": "display_data"
    }
   ],
   "source": [
    "plt.plot(X,y,\"r.\")\n",
    "plt.plot(X,f(X),\"g.\")\n",
    "plt.plot(X_copy,pred_list,'k-')"
   ]
  }
 ],
 "metadata": {
  "kernelspec": {
   "display_name": "Python 3",
   "language": "python",
   "name": "python3"
  },
  "language_info": {
   "codemirror_mode": {
    "name": "ipython",
    "version": 3
   },
   "file_extension": ".py",
   "mimetype": "text/x-python",
   "name": "python",
   "nbconvert_exporter": "python",
   "pygments_lexer": "ipython3",
   "version": "3.7.6"
  }
 },
 "nbformat": 4,
 "nbformat_minor": 4
}
